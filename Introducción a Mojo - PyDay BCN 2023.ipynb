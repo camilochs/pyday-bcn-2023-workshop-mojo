{
 "cells": [
  {
   "cell_type": "markdown",
   "metadata": {},
   "source": [
    "# Introducción a Mojo 🔥: el **poderoso** aliado de Python\n",
    "Workshop - PyDay BCN 2023 \n",
    "\n",
    "Camilo Chacón Sartori\n",
    "\n",
    "**11 de noviembre del 2023**"
   ]
  },
  {
   "cell_type": "markdown",
   "metadata": {},
   "source": [
    "Este workshop se centra en Mojo, un reciente lenguaje de programación que más que buscar rivalizar con Python, trata de integrarse a su ecosistema.\n",
    "\n",
    "Los objetivos del workshop buscan responder a las siguientes preguntas:\n",
    "\n",
    "1. ¿Cuáles son las características principales de Mojo? \n",
    "2. ¿Cómo se integra con bibliotecas de Python?\n",
    "3. ¿En qué caso podría usar Mojo?"
   ]
  },
  {
   "cell_type": "markdown",
   "metadata": {},
   "source": [
    "### Objetivo 1: características básicas"
   ]
  },
  {
   "cell_type": "markdown",
   "metadata": {},
   "source": [
    "#### Punto de inicio de un fichero"
   ]
  },
  {
   "cell_type": "markdown",
   "metadata": {},
   "source": [
    "Mojo admite fichero con la extensión `.🔥` o `.mojo`. En Mojo una función se puede declarar con `fn`, o como en Python con `def`. Pero hay ciertas diferencias que veremos más adelante."
   ]
  },
  {
   "cell_type": "markdown",
   "metadata": {},
   "source": [
    "##### Ejemplos "
   ]
  },
  {
   "cell_type": "code",
   "execution_count": null,
   "metadata": {},
   "outputs": [],
   "source": [
    "fn main():\n",
    "    let num1 = 1\n",
    "    print(num1)"
   ]
  },
  {
   "cell_type": "markdown",
   "metadata": {},
   "source": [
    "#### Declaración de variables usando `let` y `var`"
   ]
  },
  {
   "cell_type": "code",
   "execution_count": null,
   "metadata": {},
   "outputs": [],
   "source": [
    "let name = \"Elba\"\n",
    "var age = 98\n",
    "print(name, age)"
   ]
  },
  {
   "cell_type": "code",
   "execution_count": null,
   "metadata": {},
   "outputs": [],
   "source": [
    "\"\"\"\n",
    "let age = 98\n",
    "age += 1\n",
    "print(age)\n",
    "\"\"\""
   ]
  },
  {
   "cell_type": "code",
   "execution_count": null,
   "metadata": {},
   "outputs": [],
   "source": [
    "\"\"\"\n",
    "var acum = 0\n",
    "for i in range(1, 10, 2):\n",
    "    acum += i\n",
    "print(acum)\n",
    "\"\"\""
   ]
  },
  {
   "cell_type": "code",
   "execution_count": null,
   "metadata": {},
   "outputs": [],
   "source": [
    "\"\"\"\n",
    "var acum = 0\n",
    "for (let i: Int) in range(1, 10, 2):\n",
    "    acum += i\n",
    "print(acum)\n",
    "\"\"\""
   ]
  },
  {
   "cell_type": "markdown",
   "metadata": {},
   "source": [
    "#### Funciones"
   ]
  },
  {
   "cell_type": "code",
   "execution_count": null,
   "metadata": {},
   "outputs": [],
   "source": [
    "def test_function(LIMIT = 10) -> Int:\n",
    "    acum = 0\n",
    "    for i in range(LIMIT):\n",
    "        acum += i * i\n",
    "        print(acum)\n",
    "    return acum\n",
    "\n",
    "test_function(20)"
   ]
  },
  {
   "cell_type": "code",
   "execution_count": null,
   "metadata": {},
   "outputs": [],
   "source": [
    "fn test_function_fn(LIMIT : Int = 10) -> Int:\n",
    "    var acum : Int = 0\n",
    "    for i in range(LIMIT):\n",
    "        acum += i * i\n",
    "        print(acum)\n",
    "    return acum\n",
    "\n",
    "test_function_fn(20)"
   ]
  },
  {
   "cell_type": "code",
   "execution_count": null,
   "metadata": {},
   "outputs": [],
   "source": [
    "fn dynamic_function() -> Int:\n",
    "    return 1\n",
    "\n",
    "fn static_function(a: Int, b: Int) -> Int:\n",
    "    return dynamic_function()\n",
    "\n",
    "print(static_function(1, 2))"
   ]
  },
  {
   "cell_type": "code",
   "execution_count": null,
   "metadata": {},
   "outputs": [],
   "source": [
    "fn static_function(a: Int, b: Int) -> Int:\n",
    "    return a + b\n",
    "\n",
    "def dynamic_function_2(a, b):\n",
    "    return static_function(a,  b)\n",
    "\n",
    "\n",
    "print(dynamic_function_2(1, 3))"
   ]
  },
  {
   "cell_type": "code",
   "execution_count": null,
   "metadata": {},
   "outputs": [],
   "source": [
    "fn mul_inout(inout x: Int, inout y: Int) -> Int:\n",
    "    x += 1\n",
    "    y += 1\n",
    "    return x * y\n",
    "\n",
    "var a = 3\n",
    "var b = 2\n",
    "\n",
    "c = mul_inout(a, b)\n",
    "\n",
    "print(a)\n",
    "print(b)\n",
    "print(c)"
   ]
  },
  {
   "cell_type": "code",
   "execution_count": null,
   "metadata": {},
   "outputs": [],
   "source": [
    "fn set_fire(owned text: String) -> String:\n",
    "    text += \" 🔥\"\n",
    "    return text\n",
    "\n",
    "fn mojo():\n",
    "    let a: String = \"mojo\"\n",
    "    let b = set_fire(a)\n",
    "    print(a)\n",
    "    print(b)\n",
    "\n",
    "mojo()"
   ]
  },
  {
   "cell_type": "code",
   "execution_count": null,
   "metadata": {},
   "outputs": [],
   "source": [
    "fn pow(base: Int, exp: Int = 2) -> Int:\n",
    "    return base ** exp\n",
    "\n",
    "z = pow(3)\n",
    "print(z)\n",
    "\n",
    "z = pow(exp=3, base=2)\n",
    "print(z)"
   ]
  },
  {
   "cell_type": "code",
   "execution_count": null,
   "metadata": {},
   "outputs": [],
   "source": [
    "fn add_borrowed(borrowed x: Int, borrowed y: Int) -> Int:\n",
    "    return x + y\n",
    "\n",
    "a = 1\n",
    "print(add_borrowed(a, 2))\n",
    "print(a)"
   ]
  },
  {
   "cell_type": "code",
   "execution_count": null,
   "metadata": {},
   "outputs": [],
   "source": [
    "fn add_inout(inout x: Int, borrowed y: Int) -> Int:\n",
    "    x += 1\n",
    "    return x + y\n",
    "\n",
    "a = 1\n",
    "print(add_inout(a, 2))\n",
    "print(a)"
   ]
  },
  {
   "cell_type": "code",
   "execution_count": null,
   "metadata": {},
   "outputs": [],
   "source": [
    "fn add_owned(owned x: Int, borrowed y: Int) -> Int:\n",
    "    x += 1\n",
    "    return x + y\n",
    "\n",
    "a = 1\n",
    "print(add_owned(a, 2))\n",
    "print(a)"
   ]
  },
  {
   "cell_type": "markdown",
   "metadata": {},
   "source": [
    "#### Struct"
   ]
  },
  {
   "cell_type": "markdown",
   "metadata": {},
   "source": [
    "Las `struct` en Mojo vendría siendo la forma de encapsular la información, una especie de \"objetos\". Son similares a las clases en Python, salvo que son totalmente estáticas, esto es, no admite la posibilidad de modificar la `struct` en tiempo de ejecución."
   ]
  },
  {
   "cell_type": "code",
   "execution_count": null,
   "metadata": {},
   "outputs": [],
   "source": [
    "%%python\n",
    "import types\n",
    "\n",
    "# Define una clase simple\n",
    "class MiClase:\n",
    "    def __init__(self, x):\n",
    "        self.x = x\n",
    "\n",
    "    def imprimir_x(self):\n",
    "        print(self.x)\n",
    "\n",
    "\n",
    "# Crea una instancia de MiClase\n",
    "obj = MiClase(42)\n",
    "\n",
    "# Imprime el valor inicial de x\n",
    "obj.imprimir_x()\n"
   ]
  },
  {
   "cell_type": "markdown",
   "metadata": {},
   "source": [
    "##### Manipulaciones sobre `struct` no disponibles en Mojo (ejemplos)"
   ]
  },
  {
   "cell_type": "markdown",
   "metadata": {},
   "source": [
    "Se añade la función `nueva_funcion` a la clase `MiClase` en *runtime*."
   ]
  },
  {
   "cell_type": "code",
   "execution_count": null,
   "metadata": {},
   "outputs": [],
   "source": [
    "%%python\n",
    "# Función que queremos agregar a la clase\n",
    "def nueva_funcion(self):\n",
    "    print(f\"Valor de x: {self.x}\")\n",
    "\n",
    "# Agrega la nueva función a la clase en tiempo de ejecución\n",
    "obj.nueva_funcion = types.MethodType(nueva_funcion, obj)\n",
    "\n",
    "# Llama a la nueva función\n",
    "obj.nueva_funcion()"
   ]
  },
  {
   "cell_type": "markdown",
   "metadata": {},
   "source": [
    "Un ejemplo de `struct` en Julia aplicando *dynamic dispatch*.\n",
    "\n",
    "```julia\n",
    "# Definición de un tipo abstracto\n",
    "abstract type Animal end\n",
    "\n",
    "# Definición de tipos concretos que subtipifican Animal\n",
    "struct Perro <: Animal\n",
    "    nombre::String\n",
    "end\n",
    "\n",
    "struct Gato <: Animal\n",
    "    nombre::String\n",
    "end\n",
    "\n",
    "# Función que utiliza dispatch múltiple para trabajar con diferentes tipos de animales\n",
    "saludar(animal::Animal) = \"¡Hola, soy un animal!\"\n",
    "\n",
    "saludar(animal::Perro) = \"¡Hola, soy un perro llamado $(animal.nombre)!\"\n",
    "\n",
    "saludar(animal::Gato) = \"¡Hola, soy un gato llamado $(animal.nombre)!\"\n",
    "\n",
    "# Creación de instancias de los tipos concretos\n",
    "mi_perro = Perro(\"Buddy\")\n",
    "mi_gato = Gato(\"Whiskers\")\n",
    "\n",
    "# Llamadas a la función saludar con diferentes tipos de animales\n",
    "println(saludar(mi_perro))  # Salida: ¡Hola, soy un perro llamado Buddy!\n",
    "\n",
    "println(saludar(mi_gato))   # Salida: ¡Hola, soy un gato llamado Whiskers!\n",
    "\n",
    "```"
   ]
  },
  {
   "cell_type": "markdown",
   "metadata": {},
   "source": [
    "En cambio, esto en Mojo no esta permitido, dado su sistema de tipos."
   ]
  },
  {
   "cell_type": "code",
   "execution_count": null,
   "metadata": {},
   "outputs": [],
   "source": [
    "struct PyDay:\n",
    "\n",
    "    var day: Int\n",
    "    var month: Int\n",
    "    var year: Int\n",
    "    var place: StringLiteral\n",
    "\n",
    "    fn __init__(inout self, place: StringLiteral, day: Int, month: Int, year: Int):\n",
    "        self.place = place\n",
    "        self.day = day\n",
    "        self.month = month + 1\n",
    "        self.year = year\n",
    "    \n",
    "    fn info(self):\n",
    "        print(\"PyDay \", self.place, \" | \", self.day, \"-\", self.month, \"-\", self.year)\n",
    "\n",
    "let py = PyDay(\"Barcelona\", 11, 11, 2023)\n",
    "py.info()"
   ]
  },
  {
   "cell_type": "markdown",
   "metadata": {},
   "source": [
    "#### Algunas estructuras de datos"
   ]
  },
  {
   "cell_type": "code",
   "execution_count": null,
   "metadata": {},
   "outputs": [],
   "source": [
    "let list = [1, 5.0, False, \"PyDay 🔥\"]\n",
    "# let list: ListLiteral[Int, FloatLiteral, StringLiteral] = [1, 5.0, False, \"PyDay🔥\"]\n",
    "print(list.get[3, StringLiteral]())\n"
   ]
  },
  {
   "cell_type": "code",
   "execution_count": null,
   "metadata": {},
   "outputs": [],
   "source": [
    "var vec = DynamicVector[Int](3)\n",
    "vec.push_back(2)\n",
    "vec.push_back(4)\n",
    "vec.push_back(6)\n",
    "\n",
    "print(vec[0])"
   ]
  },
  {
   "cell_type": "code",
   "execution_count": null,
   "metadata": {},
   "outputs": [],
   "source": [
    "let dict = {\n",
    "        \"A\": 1.0,\n",
    "        \"B\": 2.0\n",
    "    }"
   ]
  },
  {
   "cell_type": "code",
   "execution_count": null,
   "metadata": {},
   "outputs": [],
   "source": [
    "from python import Python\n",
    "let dict = Python.dict()\n",
    "dict[\"A\"] = 1.0\n",
    "dict[\"B\"] = 2.0\n",
    "print(dict[\"A\"])"
   ]
  },
  {
   "cell_type": "markdown",
   "metadata": {},
   "source": [
    "#### Parametrización de tipos en tiempo de compilación: metaprogramación "
   ]
  },
  {
   "cell_type": "markdown",
   "metadata": {},
   "source": [
    "##### ¿Qué es la metaprogramación?"
   ]
  },
  {
   "cell_type": "markdown",
   "metadata": {},
   "source": [
    "Un ejemplo de metaprogramación en Racket:\n",
    "```clojure\n",
    "#lang racket\n",
    "\n",
    "(define-struct punto (a b))\n",
    "\n",
    ";; Creación de instancias de punto\n",
    "(define punto1 (make-punto 3 4))\n",
    "(define punto2 (make-punto -1 2))\n",
    "\n",
    ";; Acceso a los campos a y b de los puntos\n",
    "(displayln (punto-a punto1)) ; Salida: 3\n",
    "(displayln (punto-b punto1)) ; Salida: 4\n",
    "\n",
    "(displayln (punto-a punto2)) ; Salida: -1\n",
    "(displayln (punto-b punto2)) ; Salida: 2\n",
    "\n",
    "```"
   ]
  },
  {
   "cell_type": "markdown",
   "metadata": {},
   "source": [
    "Un ejemplo de metaprogramación (*template*), con tipado opticional en los argumentos, en C++.\n",
    "```c++\n",
    "#include <iostream>\n",
    "#include <type_traits>\n",
    "#include <optional>\n",
    "\n",
    "template <typename T, typename U>\n",
    "auto safe_sum(const T& a, const U& b) -> std::optional<std::common_type_t<T, U>> {\n",
    "    if constexpr (std::is_arithmetic_v<T> && std::is_arithmetic_v<U>)\n",
    "        return a + b;\n",
    "    else\n",
    "        return std::nullopt;\n",
    "}\n",
    "\n",
    "int main() {\n",
    "    auto result = safe_sum(3, 4.5);\n",
    "\n",
    "    if (result.has_value())\n",
    "        std::cout << \"Suma segura: \" << result.value() << std::endl;\n",
    "    else\n",
    "        std::cout << \"Tipos no compatibles para la suma segura.\" << std::endl;\n",
    "\n",
    "    return 0;\n",
    "}\n",
    "\n",
    "```"
   ]
  },
  {
   "cell_type": "markdown",
   "metadata": {},
   "source": [
    "##### Parametros opcionales en Mojo"
   ]
  },
  {
   "cell_type": "markdown",
   "metadata": {},
   "source": [
    "Mojo cuenta con parametros opcionales para aplicar la metaprogramación, que ocurre en tiempo de compilación."
   ]
  },
  {
   "cell_type": "code",
   "execution_count": null,
   "metadata": {},
   "outputs": [],
   "source": [
    "fn speak[a: Int = 3, msg: StringLiteral = \"Ups\"]():\n",
    "    print(msg, a, len(msg))\n",
    "\n",
    "fn use_defaults() raises:\n",
    "    speak()             # prints 'Ups 3'\n",
    "    speak[5]()          # prints 'Ups 5'\n",
    "    speak[7, \"chan\"]()  # prints 'chan 7'\n",
    "    speak[msg=\"haha\"]() # prints 'haha 3'\n",
    "\n",
    "use_defaults()"
   ]
  },
  {
   "cell_type": "code",
   "execution_count": null,
   "metadata": {},
   "outputs": [],
   "source": [
    "@value\n",
    "struct Bar[v: Int]:\n",
    "    pass\n",
    "\n",
    "fn foo[a: Int = 10, msg: StringLiteral = \"¡Hola!\"](bar: Bar[a]):\n",
    "    print(msg, a)\n",
    "\n",
    "fn use_inferred():\n",
    "    foo(Bar[7]())  \n",
    "\n",
    "use_inferred()"
   ]
  },
  {
   "cell_type": "code",
   "execution_count": null,
   "metadata": {},
   "outputs": [],
   "source": [
    "fn increment[a: Int = 0](num1 : Int, num2 : Int):\n",
    "    print((num1 + num2) * a)\n",
    "\n",
    "fn increment[a: Int = 0, b: Int = 0](num1 : Int, num2 : Int):\n",
    "    print((num1 + num2) * a * b)\n",
    "\n",
    "fn increment[a: Int = 0, b: Int = 0, c: Float32 = 0.0](num1 : Int, num2 : Int):\n",
    "    print((num1 + num2) * a * b * c)\n",
    "\n",
    "fn use_defaults_increment() raises:\n",
    "    increment[10](1, 2)\n",
    "    increment[10, 10](1, 2)\n",
    "    increment[10, 10, 3.14](1, 2)\n",
    "\n",
    "use_defaults_increment()"
   ]
  },
  {
   "cell_type": "code",
   "execution_count": null,
   "metadata": {},
   "outputs": [],
   "source": [
    "struct KwParamsStruct[greeting: StringLiteral = \"Hola\", event: StringLiteral = \"🔥PyDay BCN🔥\"]:\n",
    "    fn __init__(inout self):\n",
    "        print(greeting, event)\n",
    "\n",
    "fn use_kw_params():\n",
    "    let a = KwParamsStruct[]()                 # Hola 🔥PyDay BCN🔥\n",
    "    let b = KwParamsStruct[event=\"PyData\"]()   # Hola PyData\n",
    "    let c = KwParamsStruct[greeting=\"Chao\"]()  # Chao 🔥PyDay BCN🔥\n",
    "\n",
    "use_kw_params()"
   ]
  },
  {
   "cell_type": "markdown",
   "metadata": {},
   "source": [
    "### Objetivo 2: Interoperabilidad"
   ]
  },
  {
   "cell_type": "code",
   "execution_count": null,
   "metadata": {},
   "outputs": [],
   "source": [
    "from python import Python\n",
    "\n",
    "let np = Python.import_module(\"numpy\")\n",
    "\n",
    "ar = np.arange(15).reshape(3, 5)\n",
    "print(ar)\n",
    "print(ar.shape)"
   ]
  },
  {
   "cell_type": "code",
   "execution_count": null,
   "metadata": {},
   "outputs": [],
   "source": [
    "from python import Python\n",
    "\n",
    "let pd = Python.import_module(\"pandas\")\n",
    "df = pd.DataFrame([1,2,3], [6,7,8])\n",
    "print(df)"
   ]
  },
  {
   "cell_type": "code",
   "execution_count": null,
   "metadata": {},
   "outputs": [],
   "source": [
    "\"\"\"\n",
    "df = pd.DataFrame(\n",
    "    {\n",
    "        \"A\": 1.0,\n",
    "        \"B\": np.array([3] * 4, dtype=\"int32\"),\n",
    "        \"C\": pd.Categorical([\"Barcelona\", \"Santiago\", \"Castro\"]),\n",
    "    }\n",
    ")\n",
    "print(df)\n",
    "\"\"\""
   ]
  },
  {
   "cell_type": "code",
   "execution_count": null,
   "metadata": {},
   "outputs": [],
   "source": [
    "from python import Python\n",
    "from python.object import PythonObject \n",
    "\n",
    "let x = PythonObject(10).__str__()\n",
    "print(x)"
   ]
  },
  {
   "cell_type": "markdown",
   "metadata": {},
   "source": [
    "### Objetivo 3: ¿Cuándo usar Mojo?"
   ]
  },
  {
   "cell_type": "code",
   "execution_count": null,
   "metadata": {},
   "outputs": [],
   "source": [
    "%%python\n",
    "def matmul_python(C, A, B):\n",
    "    for m in range(C.rows):\n",
    "        for k in range(A.cols):\n",
    "            for n in range(C.cols):\n",
    "                C[m, n] += A[m, k] * B[k, n]\n",
    "\n",
    "    \n",
    "from timeit import timeit\n",
    "import numpy as np\n",
    "\n",
    "class Matrix:\n",
    "    def __init__(self, value, rows, cols):\n",
    "        self.value = value\n",
    "        self.rows = rows\n",
    "        self.cols = cols\n",
    "\n",
    "    def __getitem__(self, idxs):\n",
    "        return self.value[idxs[0]][idxs[1]]\n",
    "\n",
    "    def __setitem__(self, idxs, value):\n",
    "        self.value[idxs[0]][idxs[1]] = value\n",
    "\n",
    "def benchmark_matmul_python(M, N, K):\n",
    "    A = Matrix(list(np.random.rand(M, K)), M, K)\n",
    "    B = Matrix(list(np.random.rand(K, N)), K, N)\n",
    "    C = Matrix(list(np.zeros((M, N))), M, N)\n",
    "    secs = timeit(lambda: matmul_python(C, A, B), number=2)/2\n",
    "    gflops = ((2*M*N*K)/secs) / 1e9\n",
    "    print(gflops, \"GFLOP/s\")\n",
    "    return gflops"
   ]
  },
  {
   "cell_type": "code",
   "execution_count": null,
   "metadata": {},
   "outputs": [],
   "source": [
    "python_gflops = benchmark_matmul_python(128, 128, 128).to_float64()"
   ]
  },
  {
   "cell_type": "code",
   "execution_count": null,
   "metadata": {},
   "outputs": [],
   "source": [
    "import benchmark\n",
    "from sys.intrinsics import strided_load\n",
    "from math import div_ceil, min\n",
    "from memory import memset_zero\n",
    "from memory.unsafe import DTypePointer\n",
    "from random import rand, random_float64\n",
    "from sys.info import simdwidthof\n",
    "from runtime.llcl import Runtime\n",
    "\n",
    "def matmul_untyped(C, A, B):\n",
    "    for m in range(C.rows):\n",
    "        for k in range(A.cols):\n",
    "            for n in range(C.cols):\n",
    "                C[m, n] += A[m, k] * B[k, n]\n",
    "                \n",
    "fn matrix_getitem(self: object, i: object) raises -> object:\n",
    "    return self.value[i]\n",
    "\n",
    "\n",
    "fn matrix_setitem(self: object, i: object, value: object) raises -> object:\n",
    "    self.value[i] = value\n",
    "    return None\n",
    "\n",
    "\n",
    "fn matrix_append(self: object, value: object) raises -> object:\n",
    "    self.value.append(value)\n",
    "    return None\n",
    "\n",
    "\n",
    "fn matrix_init(rows: Int, cols: Int) raises -> object:\n",
    "    let value = object([])\n",
    "    return object(\n",
    "        Attr(\"value\", value), Attr(\"__getitem__\", matrix_getitem), Attr(\"__setitem__\", matrix_setitem),\n",
    "        Attr(\"rows\", rows), Attr(\"cols\", cols), Attr(\"append\", matrix_append),\n",
    "    )\n",
    "from benchmark import keep\n",
    "\n",
    "def benchmark_matmul_untyped(M: Int, N: Int, K: Int, python_gflops: Float64):\n",
    "    C = matrix_init(M, N)\n",
    "    A = matrix_init(M, K)\n",
    "    B = matrix_init(K, N)\n",
    "    for i in range(M):\n",
    "        c_row = object([])\n",
    "        b_row = object([])\n",
    "        a_row = object([])\n",
    "        for j in range(N):\n",
    "            c_row.append(0.0)\n",
    "            b_row.append(random_float64(-5, 5))\n",
    "            a_row.append(random_float64(-5, 5))\n",
    "        C.append(c_row)\n",
    "        B.append(b_row)\n",
    "        A.append(a_row)\n",
    "\n",
    "    @parameter\n",
    "    fn test_fn():\n",
    "        try:\n",
    "            _ = matmul_untyped(C, A, B)\n",
    "        except:\n",
    "            pass\n",
    "\n",
    "    let secs = benchmark.run[test_fn]().mean()\n",
    "    _ = (A, B, C)\n",
    "    let gflops = ((2*M*N*K)/secs) / 1e9\n",
    "    let speedup : Float64 = gflops / python_gflops\n",
    "    print(gflops, \"GFLOP/s, a\", speedup.value, \"x speedup over Python\")\n"
   ]
  },
  {
   "cell_type": "code",
   "execution_count": null,
   "metadata": {},
   "outputs": [],
   "source": [
    "benchmark_matmul_untyped(128, 128, 128, python_gflops)"
   ]
  }
 ],
 "metadata": {
  "kernelspec": {
   "display_name": "Mojo",
   "language": "mojo",
   "name": "mojo-jupyter-kernel"
  },
  "language_info": {
   "codemirror_mode": {
    "name": "mojo"
   },
   "file_extension": ".mojo",
   "mimetype": "text/x-mojo",
   "name": "mojo"
  }
 },
 "nbformat": 4,
 "nbformat_minor": 2
}
